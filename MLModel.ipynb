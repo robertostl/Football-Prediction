{
  "nbformat": 4,
  "nbformat_minor": 0,
  "metadata": {
    "colab": {
      "provenance": [],
      "authorship_tag": "ABX9TyNQD8zwiSpj8FXg0B4zgur9",
      "include_colab_link": true
    },
    "kernelspec": {
      "name": "python3",
      "display_name": "Python 3"
    },
    "language_info": {
      "name": "python"
    }
  },
  "cells": [
    {
      "cell_type": "markdown",
      "metadata": {
        "id": "view-in-github",
        "colab_type": "text"
      },
      "source": [
        "<a href=\"https://colab.research.google.com/github/robertostl/Football-Prediction/blob/main/MLModel.ipynb\" target=\"_parent\"><img src=\"https://colab.research.google.com/assets/colab-badge.svg\" alt=\"Open In Colab\"/></a>"
      ]
    },
    {
      "cell_type": "code",
      "execution_count": 1,
      "metadata": {
        "colab": {
          "base_uri": "https://localhost:8080/"
        },
        "id": "wvVD9US-4mqY",
        "outputId": "e04f0b04-d8a0-417f-9e3a-0c14bd4e1506"
      },
      "outputs": [
        {
          "output_type": "stream",
          "name": "stdout",
          "text": [
            "Mounted at /content/drive\n"
          ]
        }
      ],
      "source": [
        "#conexion al drive\n",
        "from google.colab import drive\n",
        "drive.mount('/content/drive')"
      ]
    },
    {
      "cell_type": "code",
      "source": [
        "#librerias necesarias\n",
        "import csv\n",
        "import pandas as pd\n",
        "import numpy as np\n",
        "import matplotlib.pyplot as plt\n",
        "from sklearn.decomposition import PCA\n",
        "from sklearn.preprocessing import StandardScaler\n",
        "#importación de los ficheros\n",
        "df = pd.read_pickle('/content/drive/My Drive/SD/df_result_h.pkl')\n",
        "df.info()"
      ],
      "metadata": {
        "colab": {
          "base_uri": "https://localhost:8080/"
        },
        "id": "wQHQV-X-4sWU",
        "outputId": "9ce4efa8-128a-4ab3-ad2d-a0011ab62af3"
      },
      "execution_count": 7,
      "outputs": [
        {
          "output_type": "stream",
          "name": "stdout",
          "text": [
            "<class 'pandas.core.frame.DataFrame'>\n",
            "RangeIndex: 982 entries, 0 to 981\n",
            "Data columns (total 45 columns):\n",
            " #   Column       Non-Null Count  Dtype  \n",
            "---  ------       --------------  -----  \n",
            " 0   LG           982 non-null    int64  \n",
            " 1   LGF          982 non-null    int64  \n",
            " 2   LTP          982 non-null    int64  \n",
            " 3   LC           982 non-null    int64  \n",
            " 4   LGL          982 non-null    int64  \n",
            " 5   LGFL         982 non-null    int64  \n",
            " 6   LTL          982 non-null    int64  \n",
            " 7   LTPL         982 non-null    int64  \n",
            " 8   LCL          982 non-null    int64  \n",
            " 9   LGU5P        982 non-null    int64  \n",
            " 10  VG           982 non-null    int64  \n",
            " 11  VGC          982 non-null    int64  \n",
            " 12  VGV          982 non-null    int64  \n",
            " 13  VGCV         982 non-null    int64  \n",
            " 14  VGU5P        982 non-null    int64  \n",
            " 15  LG_p         982 non-null    float64\n",
            " 16  LGF_p        982 non-null    float64\n",
            " 17  LGC_p        982 non-null    float64\n",
            " 18  LT_p         982 non-null    float64\n",
            " 19  LTP_p        982 non-null    float64\n",
            " 20  LC_p         982 non-null    float64\n",
            " 21  LGL_p        982 non-null    float64\n",
            " 22  LGFL_p       982 non-null    float64\n",
            " 23  LGCL_p       982 non-null    float64\n",
            " 24  LTL_p        982 non-null    float64\n",
            " 25  LTPL_p       982 non-null    float64\n",
            " 26  LCL_p        982 non-null    float64\n",
            " 27  LGU5P_p      982 non-null    float64\n",
            " 28  VG_p         982 non-null    float64\n",
            " 29  VGF_p        982 non-null    float64\n",
            " 30  VGC_p        982 non-null    float64\n",
            " 31  VT_p         982 non-null    float64\n",
            " 32  VTP_p        982 non-null    float64\n",
            " 33  VGV_p        982 non-null    float64\n",
            " 34  VGFV_p       982 non-null    float64\n",
            " 35  VGCV_p       982 non-null    float64\n",
            " 36  VGU5P_p      982 non-null    float64\n",
            " 37  DifPuntos    982 non-null    float64\n",
            " 38  DifPuntosLV  982 non-null    float64\n",
            " 39  CoefGoles    982 non-null    float64\n",
            " 40  CoefGolesLV  982 non-null    float64\n",
            " 41  DifRacha     982 non-null    int64  \n",
            " 42  Result_H     982 non-null    uint8  \n",
            " 43  anyomes      982 non-null    object \n",
            " 44  Jornada      982 non-null    int64  \n",
            "dtypes: float64(26), int64(17), object(1), uint8(1)\n",
            "memory usage: 338.6+ KB\n"
          ]
        }
      ]
    },
    {
      "cell_type": "code",
      "source": [
        "import pandas as pd\n",
        "import numpy as np\n",
        "import sys\n",
        "import os\n",
        "import xgboost as xgb\n",
        "import joblib\n",
        "from sklearn.pipeline import Pipeline\n",
        "from sklearn.preprocessing import StandardScaler, OneHotEncoder\n",
        "from sklearn.impute import SimpleImputer\n",
        "from sklearn.compose import ColumnTransformer\n",
        "from sklearn.metrics import make_scorer, roc_curve, auc\n",
        "from sklearn.metrics import matthews_corrcoef, average_precision_score, precision_recall_curve\n",
        "from sklearn.model_selection import train_test_split, GridSearchCV, StratifiedKFold, RepeatedStratifiedKFold, cross_val_score\n",
        "from sklearn.feature_selection import SelectKBest, chi2, f_classif, RFECV, SelectFromModel\n",
        "\n",
        "\n",
        "\n",
        "variables_info=['Jornada','anyomes','Result_H']\n",
        "numerical_variables = [var for var in df.columns if (df[var].dtype==int or df[var].dtype==float ) & (var not in variables_info)]\n",
        "categorical_variables = [var for var in df.columns if (df[var].dtype==object) & (var not in variables_info)]\n",
        "\n",
        "Y = df.Result_H.astype(\"float64\")\n",
        "X_train=df[numerical_variables+categorical_variables]\n",
        "\n",
        "# Define the sizes of the datasets to use in the training\n",
        "Train_ratio = 0.7\n",
        "Test_ratio = 0.3\n",
        "\n",
        "# First Train and Test split\n",
        "X_train_0, X_test_0, y_train, y_test = train_test_split(df,Y, test_size = Test_ratio, random_state = 1)\n",
        "X_train = X_train_0[numerical_variables+categorical_variables]\n",
        "X_test = X_test_0[numerical_variables+categorical_variables]\n"
      ],
      "metadata": {
        "id": "-KV1JLn8477l"
      },
      "execution_count": 13,
      "outputs": []
    },
    {
      "cell_type": "code",
      "source": [
        "# transformer for numerical variables\n",
        "numeric_transformer = Pipeline(steps=[\n",
        "                ('imputerNumeric',SimpleImputer(strategy='median')), # If there is a null it fills it with the median\n",
        "                ('scaler',StandardScaler()) # Scaler\n",
        "])\n",
        "\n",
        "# transformer for categorical variables\n",
        "categorical_transformer = Pipeline(steps=[\n",
        "                ('imputerCategorical',SimpleImputer(strategy='constant',fill_value='missing')), # If there is a null value, we fill it with a missing\n",
        "                ('onehot',OneHotEncoder(handle_unknown = 'ignore')) \n",
        "])\n",
        "\n",
        "# join the transformer\n",
        "preprocessor = ColumnTransformer(transformers=[\n",
        "                ('transformerNumeric',numeric_transformer, numerical_variables),\n",
        "                ('transformerCategoric',categorical_transformer, categorical_variables)\n",
        "]\n",
        "                ,remainder='passthrough')\n",
        "\n",
        "\n",
        "Params = {'objective':'binary:logistic',\n",
        "              'scale_pos_weight' : (len(y_train)-sum(y_train))/sum(y_train),\n",
        "              'n_jobs':5}\n",
        "fit_params = {\n",
        "        \"classifier__eval_metric\" : [\"logloss\",\"error\",\"auc\",\"aucpr\"]\n",
        "        ,\"classifier__early_stopping_rounds\": 20}\n",
        "''' ,\"classifier__eval_set\" : [(X_test, y_test)]\n",
        "}'''\n",
        "pipe_model = Pipeline(steps=[\n",
        "            ('preprocessor',preprocessor),\n",
        "            ('classifier',xgb.XGBClassifier(**Params)),# , eval_set = [(X_train, y_train),(X_test,y_test)]\n",
        "])\n",
        "\n",
        "\n",
        "param_grid = {\n",
        "                    'classifier__max_depth': [2,3]\n",
        "                    ,\"classifier__learning_rate\" : [0.01]\n",
        "                    ,\"classifier__n_estimators\": [1000,500]\n",
        "                    ,\"classifier__colsample_bytree\": [0.1,0.5,1]\n",
        "            }\n",
        "\n",
        "\n",
        "scoring_dict = {'phi': make_scorer(matthews_corrcoef),\n",
        "                'f1_w': 'f1_weighted'}\n",
        "\n",
        "print(\"Creating model to analyze results ...\")\n",
        "grid_search = GridSearchCV(pipe_model,param_grid ,cv=5,scoring=\"roc_auc\", n_jobs = 15, verbose = 3, return_train_score=True)\n",
        "grid_result=grid_search.fit(X_train,y_train)#,classifier__sample_weight=sample_weights_data)\n",
        "\n",
        "print(\"Model created.\")\n",
        "\n",
        "model = grid_search.best_estimator_\n",
        "\n",
        "y_pred_train = model.predict_proba(X_train)[:,1]\n",
        "y_pred_test = model.predict_proba(X_test)[:,1]\n",
        "\n",
        "print(\"Best: %f using %s\" % (grid_result.best_score_, grid_result.best_params_))\n",
        "# summarize all scores that were evaluated\n",
        "means = grid_result.cv_results_['mean_test_score']\n",
        "stds = grid_result.cv_results_['std_test_score']\n",
        "params = grid_result.cv_results_['params']\n",
        "for mean, stdev, param in zip(means, stds, params):\n",
        "    print(\"%f (%f) with: %r\" % (mean, stdev, param))"
      ],
      "metadata": {
        "colab": {
          "base_uri": "https://localhost:8080/"
        },
        "id": "F0lJHREB56Nc",
        "outputId": "5cb3d295-dc2c-45c5-bb6d-6ad39be0a5b2"
      },
      "execution_count": 16,
      "outputs": [
        {
          "output_type": "stream",
          "name": "stdout",
          "text": [
            "Creating model to analyze results ...\n",
            "Fitting 5 folds for each of 12 candidates, totalling 60 fits\n",
            "Model created.\n",
            "Best: 0.609809 using {'classifier__colsample_bytree': 0.1, 'classifier__learning_rate': 0.01, 'classifier__max_depth': 3, 'classifier__n_estimators': 500}\n",
            "0.596463 (0.040474) with: {'classifier__colsample_bytree': 0.1, 'classifier__learning_rate': 0.01, 'classifier__max_depth': 2, 'classifier__n_estimators': 1000}\n",
            "0.596568 (0.038480) with: {'classifier__colsample_bytree': 0.1, 'classifier__learning_rate': 0.01, 'classifier__max_depth': 2, 'classifier__n_estimators': 500}\n",
            "0.605690 (0.034193) with: {'classifier__colsample_bytree': 0.1, 'classifier__learning_rate': 0.01, 'classifier__max_depth': 3, 'classifier__n_estimators': 1000}\n",
            "0.609809 (0.030121) with: {'classifier__colsample_bytree': 0.1, 'classifier__learning_rate': 0.01, 'classifier__max_depth': 3, 'classifier__n_estimators': 500}\n",
            "0.592920 (0.030409) with: {'classifier__colsample_bytree': 0.5, 'classifier__learning_rate': 0.01, 'classifier__max_depth': 2, 'classifier__n_estimators': 1000}\n",
            "0.594663 (0.032648) with: {'classifier__colsample_bytree': 0.5, 'classifier__learning_rate': 0.01, 'classifier__max_depth': 2, 'classifier__n_estimators': 500}\n",
            "0.606937 (0.032354) with: {'classifier__colsample_bytree': 0.5, 'classifier__learning_rate': 0.01, 'classifier__max_depth': 3, 'classifier__n_estimators': 1000}\n",
            "0.604664 (0.026474) with: {'classifier__colsample_bytree': 0.5, 'classifier__learning_rate': 0.01, 'classifier__max_depth': 3, 'classifier__n_estimators': 500}\n",
            "0.589175 (0.034734) with: {'classifier__colsample_bytree': 1, 'classifier__learning_rate': 0.01, 'classifier__max_depth': 2, 'classifier__n_estimators': 1000}\n",
            "0.594725 (0.037556) with: {'classifier__colsample_bytree': 1, 'classifier__learning_rate': 0.01, 'classifier__max_depth': 2, 'classifier__n_estimators': 500}\n",
            "0.609164 (0.027812) with: {'classifier__colsample_bytree': 1, 'classifier__learning_rate': 0.01, 'classifier__max_depth': 3, 'classifier__n_estimators': 1000}\n",
            "0.601848 (0.025322) with: {'classifier__colsample_bytree': 1, 'classifier__learning_rate': 0.01, 'classifier__max_depth': 3, 'classifier__n_estimators': 500}\n"
          ]
        }
      ]
    },
    {
      "cell_type": "code",
      "source": [
        "# Compute the false positive rate, true positive rate, and thresholds\n",
        "fpr, tpr, thresholds = roc_curve(y_test, y_pred_test)\n",
        "\n",
        "# Compute the area under the curve (AUC)\n",
        "roc_auc = auc(fpr, tpr)\n",
        "\n",
        "# Plot the ROC curve\n",
        "plt.plot(fpr, tpr, color='darkorange', lw=2, label='ROC curve (area = %0.2f)' % roc_auc)\n",
        "plt.plot([0, 1], [0, 1], color='navy', lw=2, linestyle='--')\n",
        "plt.xlim([0.0, 1.0])\n",
        "plt.ylim([0.0, 1.05])\n",
        "plt.xlabel('False Positive Rate')\n",
        "plt.ylabel('True Positive Rate')\n",
        "plt.title('Receiver Operating Characteristic (ROC) Curve')\n",
        "plt.legend(loc=\"lower right\")\n",
        "plt.show()"
      ],
      "metadata": {
        "colab": {
          "base_uri": "https://localhost:8080/",
          "height": 295
        },
        "id": "r2KlL9Mz6Mur",
        "outputId": "9f7ef634-1800-478b-81f0-05d230cd1963"
      },
      "execution_count": 17,
      "outputs": [
        {
          "output_type": "display_data",
          "data": {
            "text/plain": [
              "<Figure size 432x288 with 1 Axes>"
            ],
            "image/png": "[encoded data removed]"
          },
          "metadata": {
            "needs_background": "light"
          }
        }
      ]
    },
    {
      "cell_type": "code",
      "source": [
        "# Compute the precision, recall, and thresholds\n",
        "precision, recall, thresholds = precision_recall_curve(y_test, y_pred_test)\n",
        "\n",
        "# Compute the average precision (AP)\n",
        "ap = average_precision_score(y_test, y_pred_test)\n",
        "\n",
        "# Plot the precision-recall curve\n",
        "plt.plot(recall, precision, color='darkorange', lw=2, label='Precision-Recall curve (AP = %0.2f)' % ap)\n",
        "plt.xlim([0.0, 1.0])\n",
        "plt.ylim([0.0, 1.05])\n",
        "plt.xlabel('Recall')\n",
        "plt.ylabel('Precision')\n",
        "plt.title('Precision-Recall Curve')\n",
        "plt.legend(loc=\"lower left\")\n",
        "plt.show()"
      ],
      "metadata": {
        "colab": {
          "base_uri": "https://localhost:8080/",
          "height": 295
        },
        "id": "VftEf3Tt7Cjm",
        "outputId": "61a1a4d1-17c7-40df-a101-d0b6e077c264"
      },
      "execution_count": 18,
      "outputs": [
        {
          "output_type": "display_data",
          "data": {
            "text/plain": [
              "<Figure size 432x288 with 1 Axes>"
            ],
            "image/png": "[encoded data removed]"
          },
          "metadata": {
            "needs_background": "light"
          }
        }
      ]
    },
    {
      "cell_type": "code",
      "source": [],
      "metadata": {
        "id": "8VrnNucp7mWa"
      },
      "execution_count": null,
      "outputs": []
    }
  ]
}