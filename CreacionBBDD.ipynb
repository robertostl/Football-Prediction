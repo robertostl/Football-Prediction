{
  "nbformat": 4,
  "nbformat_minor": 0,
  "metadata": {
    "colab": {
      "provenance": [],
      "authorship_tag": "ABX9TyPOj7Xjg8TkAmkRoZo9SSfu",
      "include_colab_link": true
    },
    "kernelspec": {
      "name": "python3",
      "display_name": "Python 3"
    },
    "language_info": {
      "name": "python"
    }
  },
  "cells": [
    {
      "cell_type": "markdown",
      "metadata": {
        "id": "view-in-github",
        "colab_type": "text"
      },
      "source": [
        "<a href=\"https://colab.research.google.com/github/robertostl/Football-Prediction/blob/main/CreacionBBDD.ipynb\" target=\"_parent\"><img src=\"https://colab.research.google.com/assets/colab-badge.svg\" alt=\"Open In Colab\"/></a>"
      ]
    },
    {
      "cell_type": "markdown",
      "source": [
        "Conexión al drive donde se tienen ubicados los ficheros que se van a analizar"
      ],
      "metadata": {
        "id": "zUjo6VsFouUy"
      }
    },
    {
      "cell_type": "code",
      "metadata": {
        "colab": {
          "base_uri": "https://localhost:8080/"
        },
        "id": "Yhc7kDujl0Sy",
        "outputId": "60e4d910-05bf-433e-f7d7-ce808efd4f23"
      },
      "source": [
        "import csv\n",
        "import pandas as pd\n",
        "import numpy as np\n",
        "from google.colab import drive\n",
        "drive.mount('/content/drive')"
      ],
      "execution_count": 1,
      "outputs": [
        {
          "output_type": "stream",
          "name": "stdout",
          "text": [
            "Mounted at /content/drive\n"
          ]
        }
      ]
    },
    {
      "cell_type": "markdown",
      "source": [
        "Funciones para el Feature engeenering"
      ],
      "metadata": {
        "id": "BqngdPnAo_TZ"
      }
    },
    {
      "cell_type": "code",
      "metadata": {
        "id": "R93jPajPmNwn"
      },
      "source": [
        "#calcula el total de los goles y los partidos disputados\n",
        "def goles(team,jornada):\n",
        "  goles=0\n",
        "  partidos=0\n",
        "  goleslocal=0\n",
        "  golesvisitante=0\n",
        "  golesC=0\n",
        "  golesClocal=0\n",
        "  golesCvisitante=0\n",
        "  partidoslocal=0\n",
        "  partidosvisitante=0\n",
        "  for i in range(0,jornada*N):\n",
        "    if(df.iloc[i]['HomeTeam']==team):\n",
        "      goles=goles+df.iloc[i]['FTHG']\n",
        "      golesC=golesC+df.iloc[i]['FTAG']\n",
        "      goleslocal=goleslocal+df.iloc[i]['FTHG']\n",
        "      golesClocal=golesClocal+df.iloc[i]['FTAG']\n",
        "      partidos=partidos+1\n",
        "      partidoslocal=partidoslocal+1\n",
        "    elif(df.iloc[i]['AwayTeam']==team):\n",
        "      goles=goles+df.iloc[i]['FTAG']\n",
        "      golesvisitante=golesvisitante+df.iloc[i]['FTAG']\n",
        "      golesC=golesC+df.iloc[i]['FTHG']\n",
        "      golesCvisitante=golesCvisitante+df.iloc[i]['FTHG']\n",
        "      partidos=partidos+1\n",
        "      partidosvisitante=partidosvisitante+1\n",
        "      \n",
        "  GF=goles\n",
        "  P=partidos\n",
        "  GFL=goleslocal\n",
        "  PL=partidoslocal\n",
        "  GFV=golesvisitante\n",
        "  PV=partidosvisitante\n",
        "  GC=golesC\n",
        "  GCL=golesClocal\n",
        "  GCV=golesCvisitante\n",
        "  \n",
        "  \n",
        "  return GF, GFL, GFV,GC, GCL, GCV, P, PL, PV"
      ],
      "execution_count": 2,
      "outputs": []
    },
    {
      "cell_type": "code",
      "metadata": {
        "id": "p9dGonW2nLwS"
      },
      "source": [
        "#clacula el numero de partidos ganados, empatados y perdidos, en total, de local y de visitante\n",
        "def resultados(team,jornada):\n",
        "  ganados=0\n",
        "  empatados=0\n",
        "  partidos=0\n",
        "  ganadoslocal=0\n",
        "  empatadoslocal=0\n",
        "  ganadosvisitante=0\n",
        "  empatadosvisitante=0\n",
        "  partidoslocal=0\n",
        "  partidosvisitante=0\n",
        "  for i in range(0,N*jornada):\n",
        "    if(df.iloc[i]['HomeTeam']==team):\n",
        "      if(df.iloc[i]['FTR']=='H'):\n",
        "        ganados=ganados+1\n",
        "        ganadoslocal +=1\n",
        "      elif(df.iloc[i]['FTR']=='D'):\n",
        "        empatados=empatados+1\n",
        "        empatadoslocal= empatadoslocal+1\n",
        "      partidos=partidos+1\n",
        "      partidoslocal=partidoslocal+1\n",
        "    elif(df.iloc[i]['AwayTeam']==team):\n",
        "      if(df.iloc[i]['FTR']=='A'):\n",
        "        ganados=ganados+1\n",
        "        ganadosvisitante +=1\n",
        "      elif(df.iloc[i]['FTR']=='D'):\n",
        "        empatados=empatados+1\n",
        "        empatadosvisitante= empatadosvisitante+1\n",
        "      partidos=partidos+1\n",
        "      partidosvisitante=partidosvisitante+1\n",
        "      \n",
        "  G=ganados\n",
        "  E=empatados\n",
        "  GL=ganadoslocal\n",
        "  EL=empatadoslocal\n",
        "  GV=ganadosvisitante\n",
        "  EV=empatadosvisitante\n",
        "\n",
        "  return G, E, GL, EL, GV, EV"
      ],
      "execution_count": 3,
      "outputs": []
    },
    {
      "cell_type": "code",
      "metadata": {
        "id": "9A1F5tfJpHKR"
      },
      "source": [
        "#clacula el numero de partidos ganados, empatados y perdidos, en total, de local y de visitante solamente de los últimos 5 partidos. Racha del equipo\n",
        "def racha(team,jornada):\n",
        "  ganados=0\n",
        "  empatados=0\n",
        "  for i in range(N*(jornada-5),N*jornada):\n",
        "    if(df.iloc[i]['HomeTeam']==team):\n",
        "      if(df.iloc[i]['FTR']=='H'):\n",
        "        ganados=ganados+1\n",
        "      elif(df.iloc[i]['FTR']=='D'):\n",
        "        empatados=empatados+1\n",
        "    elif(df.iloc[i]['AwayTeam']==team):\n",
        "      if(df.iloc[i]['FTR']=='A'):\n",
        "        ganados=ganados+1\n",
        "      elif(df.iloc[i]['FTR']=='D'):\n",
        "        empatados=empatados+1      \n",
        "  G=ganados\n",
        "  E=empatados\n",
        "  return G, E"
      ],
      "execution_count": 4,
      "outputs": []
    },
    {
      "cell_type": "code",
      "metadata": {
        "id": "omy3QzyYqlvT"
      },
      "source": [
        "#calcula el total de tiros, tiros a puerta y corners\n",
        "def estadisticas(team,jornada):\n",
        "  tiros=0\n",
        "  tirospuerta=0\n",
        "  corners=0\n",
        "  tiroslocal=0\n",
        "  tirospuertalocal=0\n",
        "  cornerslocal=0\n",
        "  tirosvisitante=0\n",
        "  tirospuertavisitante=0\n",
        "  cornersvisitante=0\n",
        "  for i in range(0,N*jornada):\n",
        "    if(df.iloc[i]['HomeTeam']==team):\n",
        "      corners=corners+df.iloc[i]['HC']\n",
        "      cornerslocal=cornerslocal+df.iloc[i]['HC']\n",
        "      tiros=tiros+df.iloc[i]['HS']\n",
        "      tiroslocal=tiroslocal+df.iloc[i]['HS']\n",
        "      tirospuerta=tirospuerta+df.iloc[i]['HST']\n",
        "      tirospuertalocal=tirospuertalocal+df.iloc[i]['HST']\n",
        "    elif(df.iloc[i]['AwayTeam']==team):\n",
        "      corners=corners+df.iloc[i]['AC']\n",
        "      cornersvisitante=cornersvisitante+df.iloc[i]['AC']\n",
        "      tiros=tiros+df.iloc[i]['AS']\n",
        "      tirosvisitante=tirosvisitante+df.iloc[i]['AS']\n",
        "      tirospuerta=tirospuerta+df.iloc[i]['AST']\n",
        "      tirospuertavisitante=tirospuertavisitante+df.iloc[i]['AST']\n",
        "      \n",
        "  T=tiros\n",
        "  TP=tirospuerta\n",
        "  C=corners\n",
        "  TL=tiroslocal\n",
        "  TPL=tirospuertalocal\n",
        "  CL=cornerslocal\n",
        "  TV=tirosvisitante\n",
        "  TPV=tirospuertavisitante\n",
        "  CV=cornersvisitante\n",
        "\n",
        "  return T, TP, C, TL, TPL, CL, TV, TPV, CV"
      ],
      "execution_count": 5,
      "outputs": []
    },
    {
      "cell_type": "markdown",
      "source": [
        "A partir de un fichero de referencia se le generan todas las varaibles necesarias y despues se guarda"
      ],
      "metadata": {
        "id": "rxbXhCoYpXPo"
      }
    },
    {
      "cell_type": "code",
      "metadata": {
        "id": "lpXXdSifvElI"
      },
      "source": [
        "#se genera la tabla con las estadisticas y se exporta\n",
        "df = pd.read_csv('/content/drive/My Drive/SD/SD2019.csv',sep=',',)\n",
        "N=10  #numero de partidos por jornada\n",
        "fin=42*N #ultimo partido que se quiere meter en el dataset, coincide con el último partido de la liga\n",
        "inicio=11*N #primer partido que se quiere meter en el dataset, para tener cierto histórico de la temporada\n",
        "dfv=pd.DataFrame(columns=['LP', 'LG', 'LE', 'LGF', 'LGC', 'LT', 'LTP', 'LC','LPL','LGL', 'LEL','LGFL','LGCL','LTL', 'LTPL', 'LCL','LGU5P', 'LEU5P', 'VP', 'VG', 'VE', 'VGF', 'VGC', 'VT', 'VTP', 'VC','VPV','VGV', 'VEV','VGFV','VGCV','VTV', 'VTPV', 'VCV', 'VGU5P', 'VEU5P'])\n",
        "for i in range(inicio,fin):\n",
        "  dfv.loc[i]=[goles(df.iloc[i]['HomeTeam'],int(i/N))[6], resultados(df.iloc[i]['HomeTeam'],int(i/N))[0], resultados(df.iloc[i]['HomeTeam'],int(i/N))[1], goles(df.iloc[i]['HomeTeam'],int(i/N))[0], goles(df.iloc[i]['HomeTeam'],int(i/N))[3], estadisticas(df.iloc[i]['HomeTeam'],int(i/N))[0], estadisticas(df.iloc[i]['HomeTeam'],int(i/N))[1], estadisticas(df.iloc[i]['HomeTeam'],int(i/N))[2],\n",
        "              goles(df.iloc[i]['HomeTeam'],int(i/N))[7], resultados(df.iloc[i]['HomeTeam'],int(i/N))[2], resultados(df.iloc[i]['HomeTeam'],int(i/N))[3], goles(df.iloc[i]['HomeTeam'],int(i/N))[1], goles(df.iloc[i]['HomeTeam'],int(i/N))[4], estadisticas(df.iloc[i]['HomeTeam'],int(i/N))[3], estadisticas(df.iloc[i]['HomeTeam'],int(i/N))[4], estadisticas(df.iloc[i]['HomeTeam'],int(i/N))[5],\n",
        "              racha(df.iloc[i]['HomeTeam'],int(i/N))[0], racha(df.iloc[i]['HomeTeam'],int(i/N))[1],\n",
        "              goles(df.iloc[i]['AwayTeam'],int(i/N))[6], resultados(df.iloc[i]['AwayTeam'],int(i/N))[0], resultados(df.iloc[i]['AwayTeam'],int(i/N))[1], goles(df.iloc[i]['AwayTeam'],int(i/N))[0], goles(df.iloc[i]['AwayTeam'],int(i/N))[3], estadisticas(df.iloc[i]['AwayTeam'],int(i/N))[0], estadisticas(df.iloc[i]['AwayTeam'],int(i/N))[1], estadisticas(df.iloc[i]['AwayTeam'],int(i/N))[2],\n",
        "              goles(df.iloc[i]['AwayTeam'],int(i/N))[8], resultados(df.iloc[i]['AwayTeam'],int(i/N))[4], resultados(df.iloc[i]['AwayTeam'],int(i/N))[5], goles(df.iloc[i]['AwayTeam'],int(i/N))[2], goles(df.iloc[i]['AwayTeam'],int(i/N))[5], estadisticas(df.iloc[i]['AwayTeam'],int(i/N))[6], estadisticas(df.iloc[i]['AwayTeam'],int(i/N))[7], estadisticas(df.iloc[i]['AwayTeam'],int(i/N))[8],\n",
        "              racha(df.iloc[i]['AwayTeam'],int(i/N))[0], racha(df.iloc[i]['AwayTeam'],int(i/N))[1]]\n",
        "         \n",
        "\n",
        "dfv['Result']=df.iloc[inicio:fin]['FTR']\n",
        "dfv['B365L']=df.iloc[inicio:fin]['B365H']\n",
        "dfv['B365E']=df.iloc[inicio:fin]['B365D']\n",
        "dfv['B365V']=df.iloc[inicio:fin]['B365A']    \n",
        "dfv['Fecha']=df.iloc[inicio:fin]['Date']\n",
        "dfv.to_csv('/content/drive/My Drive/SD/SD2019_p2.csv') "
      ],
      "execution_count": null,
      "outputs": []
    },
    {
      "cell_type": "markdown",
      "source": [
        "Los ficheros con el subfijo \"_p2\" son los ficheros tratados, listos para analizar"
      ],
      "metadata": {
        "id": "h2LEc49_qWsJ"
      }
    },
    {
      "cell_type": "code",
      "source": [
        "dfv.info()"
      ],
      "metadata": {
        "colab": {
          "base_uri": "https://localhost:8080/"
        },
        "id": "m1IlrwOJqdBP",
        "outputId": "d25d96ab-bf5b-4148-ec1f-3b30c0b4cea2"
      },
      "execution_count": 10,
      "outputs": [
        {
          "output_type": "stream",
          "name": "stdout",
          "text": [
            "<class 'pandas.core.frame.DataFrame'>\n",
            "Int64Index: 310 entries, 110 to 419\n",
            "Data columns (total 41 columns):\n",
            " #   Column  Non-Null Count  Dtype  \n",
            "---  ------  --------------  -----  \n",
            " 0   LP      310 non-null    object \n",
            " 1   LG      310 non-null    object \n",
            " 2   LE      310 non-null    object \n",
            " 3   LGF     310 non-null    object \n",
            " 4   LGC     310 non-null    object \n",
            " 5   LT      310 non-null    object \n",
            " 6   LTP     310 non-null    object \n",
            " 7   LC      310 non-null    object \n",
            " 8   LPL     310 non-null    object \n",
            " 9   LGL     310 non-null    object \n",
            " 10  LEL     310 non-null    object \n",
            " 11  LGFL    310 non-null    object \n",
            " 12  LGCL    310 non-null    object \n",
            " 13  LTL     310 non-null    object \n",
            " 14  LTPL    310 non-null    object \n",
            " 15  LCL     310 non-null    object \n",
            " 16  LGU5P   310 non-null    object \n",
            " 17  LEU5P   310 non-null    object \n",
            " 18  VP      310 non-null    object \n",
            " 19  VG      310 non-null    object \n",
            " 20  VE      310 non-null    object \n",
            " 21  VGF     310 non-null    object \n",
            " 22  VGC     310 non-null    object \n",
            " 23  VT      310 non-null    object \n",
            " 24  VTP     310 non-null    object \n",
            " 25  VC      310 non-null    object \n",
            " 26  VPV     310 non-null    object \n",
            " 27  VGV     310 non-null    object \n",
            " 28  VEV     310 non-null    object \n",
            " 29  VGFV    310 non-null    object \n",
            " 30  VGCV    310 non-null    object \n",
            " 31  VTV     310 non-null    object \n",
            " 32  VTPV    310 non-null    object \n",
            " 33  VCV     310 non-null    object \n",
            " 34  VGU5P   310 non-null    object \n",
            " 35  VEU5P   310 non-null    object \n",
            " 36  Result  310 non-null    object \n",
            " 37  B365L   308 non-null    float64\n",
            " 38  B365E   308 non-null    float64\n",
            " 39  B365V   308 non-null    float64\n",
            " 40  Fecha   310 non-null    object \n",
            "dtypes: float64(3), object(38)\n",
            "memory usage: 101.7+ KB\n"
          ]
        }
      ]
    },
    {
      "cell_type": "code",
      "source": [],
      "metadata": {
        "id": "WVo_xW18w8we"
      },
      "execution_count": null,
      "outputs": []
    }
  ]
}