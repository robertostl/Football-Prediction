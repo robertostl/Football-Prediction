{
  "nbformat": 4,
  "nbformat_minor": 0,
  "metadata": {
    "colab": {
      "provenance": [],
      "authorship_tag": "ABX9TyM1xM21X+B35PAdFzXpg3HH",
      "include_colab_link": true
    },
    "kernelspec": {
      "name": "python3",
      "display_name": "Python 3"
    },
    "language_info": {
      "name": "python"
    }
  },
  "cells": [
    {
      "cell_type": "markdown",
      "metadata": {
        "id": "view-in-github",
        "colab_type": "text"
      },
      "source": [
        "<a href=\"https://colab.research.google.com/github/robertostl/Football-Prediction/blob/main/ExploratoryDataAnalysis.ipynb\" target=\"_parent\"><img src=\"https://colab.research.google.com/assets/colab-badge.svg\" alt=\"Open In Colab\"/></a>"
      ]
    },
    {
      "cell_type": "markdown",
      "source": [
        "We want to analyze the datasets created previusly with all the features taht we consider important to predict the result of the match"
      ],
      "metadata": {
        "id": "jchhE6--rX2r"
      }
    },
    {
      "cell_type": "code",
      "source": [
        "#conexion al drive\n",
        "from google.colab import drive\n",
        "drive.mount('/content/drive')"
      ],
      "metadata": {
        "colab": {
          "base_uri": "https://localhost:8080/"
        },
        "id": "QcIA8sF9ru15",
        "outputId": "0102c3cf-2e46-41c4-d2b3-7e55f98dc90e"
      },
      "execution_count": 2,
      "outputs": [
        {
          "output_type": "stream",
          "name": "stdout",
          "text": [
            "Mounted at /content/drive\n"
          ]
        }
      ]
    },
    {
      "cell_type": "code",
      "execution_count": 21,
      "metadata": {
        "id": "SIP6EyS1rNxH"
      },
      "outputs": [],
      "source": [
        "#librerias necesarias\n",
        "import csv\n",
        "import pandas as pd\n",
        "import numpy as np\n",
        "import matplotlib.pyplot as plt\n",
        "from sklearn.decomposition import PCA\n",
        "from sklearn.preprocessing import StandardScaler\n",
        "\n",
        "#importación de los ficheros\n",
        "df22 = pd.read_csv('/content/drive/My Drive/SD/SD2022_p2.csv',sep=',',)\n",
        "df19 = pd.read_csv('/content/drive/My Drive/SD/SD2019_p2.csv',sep=',',)\n",
        "df18 = pd.read_csv('/content/drive/My Drive/SD/SD2018_p2.csv',sep=',',)\n",
        "#df17 = pd.read_csv('/content/drive/My Drive/SD/SD2017p.csv',sep=',',)\n",
        "#df16 = pd.read_csv('/content/drive/My Drive/SD/SD2016p.csv',sep=',',)\n",
        "df=pd.concat([df22,df19,df18]) #usamos la información de 5 años\n",
        "\n",
        "#creacion de nuevas variables\n",
        "df['Jornada']=(df.iloc[:,0]/11)+1 # en la segunda division hay 11 partidos por jornada\n",
        "df['Jornada']=df['Jornada'].apply(lambda x: int(x))\n",
        "\n",
        "#se crea un indice para el dataframe\n",
        "#df=df.dropna()\n",
        "n=len(df)\n",
        "df=df.set_index(pd.Index(range(0,n)))"
      ]
    },
    {
      "cell_type": "markdown",
      "source": [
        "46 variables de las que podemos sacar información"
      ],
      "metadata": {
        "id": "VVrmi4AVyfth"
      }
    },
    {
      "cell_type": "code",
      "source": [
        "df.info()"
      ],
      "metadata": {
        "colab": {
          "base_uri": "https://localhost:8080/"
        },
        "id": "b5AbVNCIxL2B",
        "outputId": "c218b497-53be-469b-c930-9650bac29508"
      },
      "execution_count": 29,
      "outputs": [
        {
          "output_type": "stream",
          "name": "stdout",
          "text": [
            "<class 'pandas.core.frame.DataFrame'>\n",
            "RangeIndex: 982 entries, 0 to 981\n",
            "Data columns (total 47 columns):\n",
            " #   Column       Non-Null Count  Dtype  \n",
            "---  ------       --------------  -----  \n",
            " 0   Unnamed: 0   982 non-null    int64  \n",
            " 1   LP           982 non-null    int64  \n",
            " 2   LG           982 non-null    int64  \n",
            " 3   LE           982 non-null    int64  \n",
            " 4   LGF          982 non-null    int64  \n",
            " 5   LGC          982 non-null    int64  \n",
            " 6   LT           982 non-null    int64  \n",
            " 7   LTP          982 non-null    int64  \n",
            " 8   LC           982 non-null    int64  \n",
            " 9   LPL          982 non-null    int64  \n",
            " 10  LGL          982 non-null    int64  \n",
            " 11  LEL          982 non-null    int64  \n",
            " 12  LGFL         982 non-null    int64  \n",
            " 13  LGCL         982 non-null    int64  \n",
            " 14  LTL          982 non-null    int64  \n",
            " 15  LTPL         982 non-null    int64  \n",
            " 16  LCL          982 non-null    int64  \n",
            " 17  LGU5P        982 non-null    int64  \n",
            " 18  LEU5P        982 non-null    int64  \n",
            " 19  VP           982 non-null    int64  \n",
            " 20  VG           982 non-null    int64  \n",
            " 21  VE           982 non-null    int64  \n",
            " 22  VGF          982 non-null    int64  \n",
            " 23  VGC          982 non-null    int64  \n",
            " 24  VT           982 non-null    int64  \n",
            " 25  VTP          982 non-null    int64  \n",
            " 26  VC           982 non-null    int64  \n",
            " 27  VPV          982 non-null    int64  \n",
            " 28  VGV          982 non-null    int64  \n",
            " 29  VEV          982 non-null    int64  \n",
            " 30  VGFV         982 non-null    int64  \n",
            " 31  VGCV         982 non-null    int64  \n",
            " 32  VTV          982 non-null    int64  \n",
            " 33  VTPV         982 non-null    int64  \n",
            " 34  VCV          982 non-null    int64  \n",
            " 35  VGU5P        982 non-null    int64  \n",
            " 36  VEU5P        982 non-null    int64  \n",
            " 37  Result       982 non-null    object \n",
            " 38  B365L        980 non-null    float64\n",
            " 39  B365E        980 non-null    float64\n",
            " 40  B365V        980 non-null    float64\n",
            " 41  Fecha        982 non-null    object \n",
            " 42  DifPuntos    982 non-null    int64  \n",
            " 43  DifPuntosLV  982 non-null    int64  \n",
            " 44  CoefGoles    982 non-null    int64  \n",
            " 45  CoefGolesLV  982 non-null    int64  \n",
            " 46  Jornada      982 non-null    int64  \n",
            "dtypes: float64(3), int64(42), object(2)\n",
            "memory usage: 360.7+ KB\n"
          ]
        }
      ]
    },
    {
      "cell_type": "markdown",
      "source": [
        "Formateamos todas las variables a resultados por partido"
      ],
      "metadata": {
        "id": "SNW5Sks3zT0X"
      }
    },
    {
      "cell_type": "code",
      "source": [
        "for column in df.columns:\n",
        "  if df[column].dtype==int:\n",
        "    df[column+\"_p\"]=df[column]/df.Jornada"
      ],
      "metadata": {
        "id": "qr--Mg4kymJG"
      },
      "execution_count": 32,
      "outputs": []
    },
    {
      "cell_type": "code",
      "source": [
        "df.info()"
      ],
      "metadata": {
        "colab": {
          "base_uri": "https://localhost:8080/"
        },
        "id": "T6uwyVrhzQyu",
        "outputId": "17dcbfba-af01-4656-c44a-74c45a979b05"
      },
      "execution_count": 33,
      "outputs": [
        {
          "output_type": "stream",
          "name": "stdout",
          "text": [
            "<class 'pandas.core.frame.DataFrame'>\n",
            "RangeIndex: 982 entries, 0 to 981\n",
            "Data columns (total 89 columns):\n",
            " #   Column         Non-Null Count  Dtype  \n",
            "---  ------         --------------  -----  \n",
            " 0   Unnamed: 0     982 non-null    int64  \n",
            " 1   LP             982 non-null    int64  \n",
            " 2   LG             982 non-null    int64  \n",
            " 3   LE             982 non-null    int64  \n",
            " 4   LGF            982 non-null    int64  \n",
            " 5   LGC            982 non-null    int64  \n",
            " 6   LT             982 non-null    int64  \n",
            " 7   LTP            982 non-null    int64  \n",
            " 8   LC             982 non-null    int64  \n",
            " 9   LPL            982 non-null    int64  \n",
            " 10  LGL            982 non-null    int64  \n",
            " 11  LEL            982 non-null    int64  \n",
            " 12  LGFL           982 non-null    int64  \n",
            " 13  LGCL           982 non-null    int64  \n",
            " 14  LTL            982 non-null    int64  \n",
            " 15  LTPL           982 non-null    int64  \n",
            " 16  LCL            982 non-null    int64  \n",
            " 17  LGU5P          982 non-null    int64  \n",
            " 18  LEU5P          982 non-null    int64  \n",
            " 19  VP             982 non-null    int64  \n",
            " 20  VG             982 non-null    int64  \n",
            " 21  VE             982 non-null    int64  \n",
            " 22  VGF            982 non-null    int64  \n",
            " 23  VGC            982 non-null    int64  \n",
            " 24  VT             982 non-null    int64  \n",
            " 25  VTP            982 non-null    int64  \n",
            " 26  VC             982 non-null    int64  \n",
            " 27  VPV            982 non-null    int64  \n",
            " 28  VGV            982 non-null    int64  \n",
            " 29  VEV            982 non-null    int64  \n",
            " 30  VGFV           982 non-null    int64  \n",
            " 31  VGCV           982 non-null    int64  \n",
            " 32  VTV            982 non-null    int64  \n",
            " 33  VTPV           982 non-null    int64  \n",
            " 34  VCV            982 non-null    int64  \n",
            " 35  VGU5P          982 non-null    int64  \n",
            " 36  VEU5P          982 non-null    int64  \n",
            " 37  Result         982 non-null    object \n",
            " 38  B365L          980 non-null    float64\n",
            " 39  B365E          980 non-null    float64\n",
            " 40  B365V          980 non-null    float64\n",
            " 41  Fecha          982 non-null    object \n",
            " 42  DifPuntos      982 non-null    int64  \n",
            " 43  DifPuntosLV    982 non-null    int64  \n",
            " 44  CoefGoles      982 non-null    int64  \n",
            " 45  CoefGolesLV    982 non-null    int64  \n",
            " 46  Jornada        982 non-null    int64  \n",
            " 47  Unnamed: 0_p   982 non-null    float64\n",
            " 48  LP_p           982 non-null    float64\n",
            " 49  LG_p           982 non-null    float64\n",
            " 50  LE_p           982 non-null    float64\n",
            " 51  LGF_p          982 non-null    float64\n",
            " 52  LGC_p          982 non-null    float64\n",
            " 53  LT_p           982 non-null    float64\n",
            " 54  LTP_p          982 non-null    float64\n",
            " 55  LC_p           982 non-null    float64\n",
            " 56  LPL_p          982 non-null    float64\n",
            " 57  LGL_p          982 non-null    float64\n",
            " 58  LEL_p          982 non-null    float64\n",
            " 59  LGFL_p         982 non-null    float64\n",
            " 60  LGCL_p         982 non-null    float64\n",
            " 61  LTL_p          982 non-null    float64\n",
            " 62  LTPL_p         982 non-null    float64\n",
            " 63  LCL_p          982 non-null    float64\n",
            " 64  LGU5P_p        982 non-null    float64\n",
            " 65  LEU5P_p        982 non-null    float64\n",
            " 66  VP_p           982 non-null    float64\n",
            " 67  VG_p           982 non-null    float64\n",
            " 68  VE_p           982 non-null    float64\n",
            " 69  VGF_p          982 non-null    float64\n",
            " 70  VGC_p          982 non-null    float64\n",
            " 71  VT_p           982 non-null    float64\n",
            " 72  VTP_p          982 non-null    float64\n",
            " 73  VC_p           982 non-null    float64\n",
            " 74  VPV_p          982 non-null    float64\n",
            " 75  VGV_p          982 non-null    float64\n",
            " 76  VEV_p          982 non-null    float64\n",
            " 77  VGFV_p         982 non-null    float64\n",
            " 78  VGCV_p         982 non-null    float64\n",
            " 79  VTV_p          982 non-null    float64\n",
            " 80  VTPV_p         982 non-null    float64\n",
            " 81  VCV_p          982 non-null    float64\n",
            " 82  VGU5P_p        982 non-null    float64\n",
            " 83  VEU5P_p        982 non-null    float64\n",
            " 84  DifPuntos_p    982 non-null    float64\n",
            " 85  DifPuntosLV_p  982 non-null    float64\n",
            " 86  CoefGoles_p    982 non-null    float64\n",
            " 87  CoefGolesLV_p  982 non-null    float64\n",
            " 88  Jornada_p      982 non-null    float64\n",
            "dtypes: float64(45), int64(42), object(2)\n",
            "memory usage: 682.9+ KB\n"
          ]
        }
      ]
    },
    {
      "cell_type": "markdown",
      "source": [
        "Creacion de las variables de victoria local, empate y victoria visitante"
      ],
      "metadata": {
        "id": "-mZU1KBSz_1U"
      }
    },
    {
      "cell_type": "code",
      "source": [
        "df=pd.get_dummies(df, columns=['Result'])"
      ],
      "metadata": {
        "id": "FI89Eayzzpht"
      },
      "execution_count": 54,
      "outputs": []
    },
    {
      "cell_type": "markdown",
      "source": [
        "Creamos variables de diferencias entre equipos"
      ],
      "metadata": {
        "id": "it43q3SP0cC_"
      }
    },
    {
      "cell_type": "code",
      "source": [
        "df['DifPuntos']=(df['LG_p']-df['VG_p'])*3+(df['LE_p']-df['VE_p'])\n",
        "df['DifPuntosLV']=(df['LGL_p']-df['VGV_p'])*3+(df['LEL_p']-df['VEV_p'])\n",
        "df['CoefGoles']=df['LGF_p']*df['VGC_p']-df['VGF_p']*df['LGC_p']\n",
        "df['CoefGolesLV']=df['LGFL_p']*df['VGCV_p']-df['VGFV_p']*df['LGCL_p']\n",
        "df['DifRacha']=(df['LGU5P']-df['VGU5P'])*3+(df['LEU5P']-df['VEU5P'])"
      ],
      "metadata": {
        "id": "ruwTAeL70bWq"
      },
      "execution_count": 55,
      "outputs": []
    },
    {
      "cell_type": "code",
      "source": [
        "df.DifRacha.describe()"
      ],
      "metadata": {
        "colab": {
          "base_uri": "https://localhost:8080/"
        },
        "id": "Mzi_DVsR1lfh",
        "outputId": "12d79885-7a56-4580-eb6f-1fef488aa77e"
      },
      "execution_count": 47,
      "outputs": [
        {
          "output_type": "execute_result",
          "data": {
            "text/plain": [
              "count    982.000000\n",
              "mean      -0.245418\n",
              "std        4.258691\n",
              "min      -11.000000\n",
              "25%       -3.000000\n",
              "50%        0.000000\n",
              "75%        3.000000\n",
              "max       15.000000\n",
              "Name: DifRacha, dtype: float64"
            ]
          },
          "metadata": {},
          "execution_count": 47
        }
      ]
    },
    {
      "cell_type": "code",
      "source": [
        "import seaborn as sns\n",
        "sns.histplot(df.Result)"
      ],
      "metadata": {
        "colab": {
          "base_uri": "https://localhost:8080/",
          "height": 296
        },
        "id": "c_0m2h9cv1t7",
        "outputId": "c2f2d33e-8ff7-4478-e40c-12a3a3784325"
      },
      "execution_count": 52,
      "outputs": [
        {
          "output_type": "execute_result",
          "data": {
            "text/plain": [
              "<matplotlib.axes._subplots.AxesSubplot at 0x7f2dc75ee430>"
            ]
          },
          "metadata": {},
          "execution_count": 52
        },
        {
          "output_type": "display_data",
          "data": {
            "text/plain": [
              "<Figure size 432x288 with 1 Axes>"
            ],
            "image/png": "[encoded data removed]"
          },
          "metadata": {
            "needs_background": "light"
          }
        }
      ]
    },
    {
      "cell_type": "code",
      "source": [
        "variable=\"DifPuntos\"\n",
        "import matplotlib.pyplot as plt\n",
        "from matplotlib import style\n",
        "fig, ax = plt.subplots(figsize=(6, 3.84))\n",
        "sns.violinplot(\n",
        "        x     = 'Result_H',\n",
        "        y     = variable,\n",
        "        data  = df,\n",
        "        #color = \"white\",\n",
        "        ax    = ax)"
      ],
      "metadata": {
        "colab": {
          "base_uri": "https://localhost:8080/",
          "height": 289
        },
        "id": "UBWxjd8UroJA",
        "outputId": "fb6c4fdf-4d23-4411-8a6b-2aca5c7b2b0d"
      },
      "execution_count": 64,
      "outputs": [
        {
          "output_type": "execute_result",
          "data": {
            "text/plain": [
              "<matplotlib.axes._subplots.AxesSubplot at 0x7f2dc502f700>"
            ]
          },
          "metadata": {},
          "execution_count": 64
        },
        {
          "output_type": "display_data",
          "data": {
            "text/plain": [
              "<Figure size 432x276.48 with 1 Axes>"
            ],
            "image/png": "[encoded data removed]"
          },
          "metadata": {
            "needs_background": "light"
          }
        }
      ]
    },
    {
      "cell_type": "code",
      "source": [
        "fig = sns.boxplot(x=\"Result_H\", y=variable, data=df)"
      ],
      "metadata": {
        "colab": {
          "base_uri": "https://localhost:8080/",
          "height": 280
        },
        "id": "zPSTuBlD14vX",
        "outputId": "224e80a1-939d-481b-949a-95ab96ae858a"
      },
      "execution_count": 65,
      "outputs": [
        {
          "output_type": "display_data",
          "data": {
            "text/plain": [
              "<Figure size 432x288 with 1 Axes>"
            ],
            "image/png": "[encoded data removed]"
          },
          "metadata": {
            "needs_background": "light"
          }
        }
      ]
    },
    {
      "cell_type": "code",
      "source": [
        "sns.distplot(df[variable])"
      ],
      "metadata": {
        "colab": {
          "base_uri": "https://localhost:8080/",
          "height": 351
        },
        "id": "Kqtgbv_G2Yhc",
        "outputId": "20d5b6ef-03eb-4cdd-f8ed-e2d0afc4762e"
      },
      "execution_count": 66,
      "outputs": [
        {
          "output_type": "stream",
          "name": "stderr",
          "text": [
            "/usr/local/lib/python3.8/dist-packages/seaborn/distributions.py:2619: FutureWarning: `distplot` is a deprecated function and will be removed in a future version. Please adapt your code to use either `displot` (a figure-level function with similar flexibility) or `histplot` (an axes-level function for histograms).\n",
            "  warnings.warn(msg, FutureWarning)\n"
          ]
        },
        {
          "output_type": "execute_result",
          "data": {
            "text/plain": [
              "<matplotlib.axes._subplots.AxesSubplot at 0x7f2dc4f7e970>"
            ]
          },
          "metadata": {},
          "execution_count": 66
        },
        {
          "output_type": "display_data",
          "data": {
            "text/plain": [
              "<Figure size 432x288 with 1 Axes>"
            ],
            "image/png": "[encoded data removed]"
          },
          "metadata": {
            "needs_background": "light"
          }
        }
      ]
    },
    {
      "cell_type": "code",
      "source": [
        "VictoriasJornas=df.groupby(['Jornada'])['Result_H'].mean()\n",
        "VictoriasJornas.plot()\n",
        "from scipy.ndimage.filters import gaussian_filter1d\n",
        "ysmoothed = gaussian_filter1d(VictoriasJornas, sigma=2)\n",
        "plt.plot(VictoriasJornas.index, ysmoothed)\n",
        "plt.show()"
      ],
      "metadata": {
        "colab": {
          "base_uri": "https://localhost:8080/",
          "height": 279
        },
        "id": "4ubwbEIT2hLo",
        "outputId": "c201d16f-af6f-48b9-88c1-78f11f712098"
      },
      "execution_count": 60,
      "outputs": [
        {
          "output_type": "display_data",
          "data": {
            "text/plain": [
              "<Figure size 432x288 with 1 Axes>"
            ],
            "image/png": "[encoded data removed]"
          },
          "metadata": {
            "needs_background": "light"
          }
        }
      ]
    },
    {
      "cell_type": "code",
      "source": [
        "# T-test entre clases\n",
        "from statsmodels.stats.weightstats import ttest_ind\n",
        "\n",
        "for variable in df.columns:\n",
        "  if df[variable].dtype==int or df[variable].dtype==float:\n",
        "    res_ttest = ttest_ind(\n",
        "                x1 = df[df[\"Result_H\"] == 0][variable],\n",
        "                x2 = df[df[\"Result_H\"] == 1][variable],\n",
        "                alternative='two-sided'\n",
        "            )\n",
        "    if res_ttest[1]<0.05:\n",
        "      print(f\"t={res_ttest[0]}, p-value={res_ttest[1]}, variable={variable}\")\n",
        "#la hipotesis nula es muestras iguales. solo se muestran las variables significativamente importantes respecto a la victoria local"
      ],
      "metadata": {
        "colab": {
          "base_uri": "https://localhost:8080/"
        },
        "id": "a9bEYYcN2t7j",
        "outputId": "e28413c9-6558-49d8-d014-e3782d768d5e"
      },
      "execution_count": 73,
      "outputs": [
        {
          "output_type": "stream",
          "name": "stdout",
          "text": [
            "t=-3.5034266292671004, p-value=0.00048006326584560733, variable=LG\n",
            "t=-3.620602797151294, p-value=0.00030896771763254583, variable=LGF\n",
            "t=-2.413010711562572, p-value=0.016004025368489116, variable=LTP\n",
            "t=-2.313030022100675, p-value=0.020927298304741878, variable=LC\n",
            "t=-3.6450592205418872, p-value=0.0002813759752644478, variable=LGL\n",
            "t=-3.6201716974101608, p-value=0.0003094761045416992, variable=LGFL\n",
            "t=-2.1460969477803005, p-value=0.03211026551865451, variable=LTL\n",
            "t=-2.746562452323822, p-value=0.006132708942555795, variable=LTPL\n",
            "t=-2.2352869362593704, p-value=0.025623129721733626, variable=LCL\n",
            "t=-3.5616978124527425, p-value=0.0003861875648496438, variable=LGU5P\n",
            "t=2.2191084860095884, p-value=0.026707720957349114, variable=VG\n",
            "t=-3.2668338915305344, p-value=0.0011253228772121822, variable=VGC\n",
            "t=2.1473635298382043, p-value=0.032009089593908115, variable=VGV\n",
            "t=-2.7678632723544907, p-value=0.005748851932951374, variable=VGCV\n",
            "t=2.522733468578623, p-value=0.011801996040429582, variable=VGU5P\n",
            "t=-6.488811456422774, p-value=1.3711857810566088e-10, variable=DifPuntos\n",
            "t=-5.878345821354778, p-value=5.676731422257358e-09, variable=DifPuntosLV\n",
            "t=-7.0253935279347575, p-value=3.990730273957452e-12, variable=CoefGoles\n",
            "t=-6.6956359693578325, p-value=3.6110146184508166e-11, variable=CoefGolesLV\n",
            "t=-4.616986533559757, p-value=4.411227850301878e-06, variable=LG_p\n",
            "t=-5.2472098923419015, p-value=1.892695442084717e-07, variable=LGF_p\n",
            "t=2.5162445330308327, p-value=0.012020086755109502, variable=LGC_p\n",
            "t=-3.1183109991154496, p-value=0.0018719865127900391, variable=LT_p\n",
            "t=-3.474592769799309, p-value=0.0005340297733590739, variable=LTP_p\n",
            "t=-3.413290878538437, p-value=0.0006681050659539484, variable=LC_p\n",
            "t=-4.373042839947571, p-value=1.3562718731167831e-05, variable=LGL_p\n",
            "t=-4.3438356469748864, p-value=1.5459249499699677e-05, variable=LGFL_p\n",
            "t=3.1786920437232205, p-value=0.0015257741244913234, variable=LGCL_p\n",
            "t=-3.248850996854659, p-value=0.0011981168443012573, variable=LTL_p\n",
            "t=-3.5865754174857263, p-value=0.0003515983172191097, variable=LTPL_p\n",
            "t=-2.891356914539964, p-value=0.003920561614903168, variable=LCL_p\n",
            "t=-3.0576902273702276, p-value=0.0022910253578572034, variable=LGU5P_p\n",
            "t=4.01312616323282, p-value=6.448555009478903e-05, variable=VG_p\n",
            "t=3.690850594701104, p-value=0.00023582375719138378, variable=VGF_p\n",
            "t=-4.107982732503896, p-value=4.324547737718172e-05, variable=VGC_p\n",
            "t=2.3009609087322853, p-value=0.02160300717594466, variable=VT_p\n",
            "t=2.407552805172263, p-value=0.016243793286850567, variable=VTP_p\n",
            "t=3.1973644939578802, p-value=0.0014313177107852675, variable=VGV_p\n",
            "t=3.705214874667091, p-value=0.0002230271890015421, variable=VGFV_p\n",
            "t=-2.707665879290097, p-value=0.006893758907385419, variable=VGCV_p\n",
            "t=2.3204012389461703, p-value=0.020523745726662067, variable=VGU5P_p\n",
            "t=-6.420561291665243, p-value=2.112626412485303e-10, variable=CoefGoles_p\n",
            "t=-6.50613113383575, p-value=1.2279513201791375e-10, variable=CoefGolesLV_p\n",
            "t=-4.010365122836836, p-value=6.523193552078568e-05, variable=DifRacha\n"
          ]
        },
        {
          "output_type": "stream",
          "name": "stderr",
          "text": [
            "/usr/local/lib/python3.8/dist-packages/statsmodels/stats/weightstats.py:650: RuntimeWarning: invalid value encountered in double_scalars\n",
            "  tstat = (value1 - value2 - diff) / std_diff\n"
          ]
        }
      ]
    },
    {
      "cell_type": "code",
      "source": [],
      "metadata": {
        "id": "t1snLsZm3qsa"
      },
      "execution_count": null,
      "outputs": []
    }
  ]
}